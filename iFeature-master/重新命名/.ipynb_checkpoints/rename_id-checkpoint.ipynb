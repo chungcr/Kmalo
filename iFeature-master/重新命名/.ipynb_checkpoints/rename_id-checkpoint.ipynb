{
 "cells": [
  {
   "cell_type": "markdown",
   "metadata": {},
   "source": [
    "把名字一樣的ID重新命名 使得每個ID都不一樣"
   ]
  },
  {
   "cell_type": "code",
   "execution_count": 5,
   "metadata": {
    "scrolled": true
   },
   "outputs": [],
   "source": [
    "import pandas as pd\n",
    "\n",
    "pos = pd.read_table(\"p_withK.txt\",header=None)\n",
    "neg = pd.read_table(\"n_withK.txt\",header=None)\n"
   ]
  },
  {
   "cell_type": "code",
   "execution_count": 25,
   "metadata": {},
   "outputs": [],
   "source": [
    "temp = \"hihi\"\n",
    "i = 0\n",
    "\n",
    "with open (\"n_rename.txt\",'w') as f:\n",
    "    for index, row in neg.iterrows():\n",
    "        if ~index%2 :\n",
    "            #print(\"row %s\" %row[0])\n",
    "            if row[0]==temp:\n",
    "                i = i+1\n",
    "                name = row[0] + \"_\" + str(i)\n",
    "            else :\n",
    "                name = row[0]\n",
    "                i = 0\n",
    "            temp = row[0]\n",
    "            f.write(name)\n",
    "            f.write('\\n')\n",
    "            #print(name)\n",
    "        else :\n",
    "            f.write(row[0])\n",
    "            f.write('\\n')"
   ]
  }
 ],
 "metadata": {
  "kernelspec": {
   "display_name": "Python 3",
   "language": "python",
   "name": "python3"
  },
  "language_info": {
   "codemirror_mode": {
    "name": "ipython",
    "version": 3
   },
   "file_extension": ".py",
   "mimetype": "text/x-python",
   "name": "python",
   "nbconvert_exporter": "python",
   "pygments_lexer": "ipython3",
   "version": "3.6.4"
  }
 },
 "nbformat": 4,
 "nbformat_minor": 2
}
